{
 "cells": [
  {
   "cell_type": "code",
   "execution_count": 1,
   "metadata": {},
   "outputs": [],
   "source": [
    "import numpy as np\n",
    "import zipfile as zf\n",
    "import matplotlib.pyplot as plt\n",
    "import pickle, csv, struct, h5py\n",
    "from subprocess import call"
   ]
  },
  {
   "cell_type": "code",
   "execution_count": 2,
   "metadata": {},
   "outputs": [],
   "source": [
    "def writeDiphaInput(filename, base_map):\n",
    "    \n",
    "    file = open(filename, \"wb\")\n",
    "    \n",
    "    file.write(struct.pack('<q', 8067171840))\n",
    "    file.write(struct.pack('<q', 1))\n",
    "    file.write(struct.pack('<q', base_map.size))\n",
    "    file.write(struct.pack('<q', base_map.ndim))\n",
    "    \n",
    "    for n in base_map.shape: \n",
    "        file.write(struct.pack('<q', n))\n",
    "    \n",
    "    for v in base_map.flatten():\n",
    "        file.write(struct.pack('<d', v))\n",
    "    \n",
    "    file.close()\n",
    "    \n",
    "    return"
   ]
  },
  {
   "cell_type": "code",
   "execution_count": 3,
   "metadata": {},
   "outputs": [],
   "source": [
    "def readPersistenceDiagram(file, dim):\n",
    "    \n",
    "    birth = np.empty(0, dtype = float)\n",
    "    death = np.empty(0, dtype = float)\n",
    "\n",
    "    file.read(24)\n",
    "    \n",
    "    for s in iter(lambda: file.read(24), b''):\n",
    "        \n",
    "        d = int(struct.unpack('<q', s[:8])[0])\n",
    "        \n",
    "        if d == dim:\n",
    "            \n",
    "            birth = np.append(birth, struct.unpack('<d', s[8:16])[0])\n",
    "            death = np.append(death, struct.unpack('<d', s[-8:])[0])\n",
    "    \n",
    "    return [birth, death]"
   ]
  },
  {
   "cell_type": "code",
   "execution_count": 4,
   "metadata": {},
   "outputs": [],
   "source": [
    "#def computePersistenceDiagram(datapath):"
   ]
  },
  {
   "cell_type": "code",
   "execution_count": 5,
   "metadata": {},
   "outputs": [],
   "source": [
    "dset = h5py.File('./JetImages/jet-images_Mass60-100_pT250-300_R1.25_Pix25.hdf5','r')\n",
    "wdir = '/Volumes/ramdisk'\n",
    "\n",
    "sigcount = 0\n",
    "bkgcount = 0\n",
    "totnum = 4000\n",
    "\n",
    "pd_birth = [None] * totnum\n",
    "pd_death = [None] * totnum\n",
    "image = [None] * totnum\n",
    "jet_delta_R = np.zeros(totnum)\n",
    "jet_eta = np.zeros(totnum)\n",
    "jet_mass = np.zeros(totnum)\n",
    "jet_phi = np.zeros(totnum)\n",
    "jet_pt = np.zeros(totnum)\n",
    "signal = np.zeros(totnum)\n",
    "tau_1 = np.zeros(totnum)\n",
    "tau_2 = np.zeros(totnum)\n",
    "tau_21 = np.zeros(totnum)\n",
    "tau_3 = np.zeros(totnum)\n",
    "tau_32 = np.zeros(totnum)\n",
    "\n",
    "for i, sig in enumerate(dset['signal']):\n",
    "\n",
    "    if (sig == 1.0) and (sigcount < totnum/2) and (60<dset['jet_mass'][i]<95):\n",
    "        \n",
    "        sigcount += 1\n",
    "        #norm = np.linalg.norm(dset['image'][i])\n",
    "        writeDiphaInput(wdir+'/tmp.dat', dset['image'][i])\n",
    "        call('./dipha '+wdir+'/tmp.dat '+wdir+'/sig'+str(sigcount)+'.pd', shell=True)\n",
    "        pd_file = open(wdir+'/sig'+str(sigcount)+'.pd','rb')\n",
    "        pd = readPersistenceDiagram(pd_file, 1)\n",
    "        pd_file.close()\n",
    "        pd_birth[2*sigcount-1] = pd[0]\n",
    "        pd_death[2*sigcount-1] = pd[1]\n",
    "        image[2*sigcount-1] = dset['image'][i]\n",
    "        jet_delta_R[2*sigcount-1] = dset['jet_delta_R'][i]\n",
    "        jet_eta[2*sigcount-1] = dset['jet_eta'][i]\n",
    "        jet_mass[2*sigcount-1] = dset['jet_mass'][i]\n",
    "        jet_phi[2*sigcount-1] = dset['jet_phi'][i]\n",
    "        jet_pt[2*sigcount-1] = dset['jet_pt'][i]\n",
    "        signal[2*sigcount-1] = dset['signal'][i]\n",
    "        tau_1[2*sigcount-1] = dset['tau_1'][i]\n",
    "        tau_2[2*sigcount-1] = dset['tau_2'][i]\n",
    "        tau_21[2*sigcount-1] = dset['tau_21'][i]\n",
    "        tau_3[2*sigcount-1] = dset['tau_3'][i]\n",
    "        tau_32[2*sigcount-1] = dset['tau_32'][i]\n",
    "        \n",
    "        if sigcount%1000 == 0: \n",
    "            call('rm '+wdir+'/sig*', shell=True)\n",
    "        \n",
    "    elif (sig == 0.0) and (bkgcount < totnum/2) and (60<dset['jet_mass'][i]<95):\n",
    "        \n",
    "        bkgcount += 1\n",
    "        #norm = np.linalg.norm(dset['image'][i])\n",
    "        writeDiphaInput(wdir+'/tmp.dat', dset['image'][i])\n",
    "        call('./dipha '+wdir+'/tmp.dat '+wdir+'/bkg'+str(bkgcount)+'.pd', shell=True)\n",
    "        pd_file = open(wdir+'/bkg'+str(bkgcount)+'.pd','rb')\n",
    "        pd = readPersistenceDiagram(pd_file, 1)\n",
    "        pd_file.close()\n",
    "        pd_birth[2*bkgcount-2] = pd[0]\n",
    "        pd_death[2*bkgcount-2] = pd[1]\n",
    "        image[2*bkgcount-2] = dset['image'][i]\n",
    "        jet_delta_R[2*bkgcount-2] = dset['jet_delta_R'][i]\n",
    "        jet_eta[2*bkgcount-2] = dset['jet_eta'][i]\n",
    "        jet_mass[2*bkgcount-2] = dset['jet_mass'][i]\n",
    "        jet_phi[2*bkgcount-2] = dset['jet_phi'][i]\n",
    "        jet_pt[2*bkgcount-2] = dset['jet_pt'][i]\n",
    "        signal[2*bkgcount-2] = dset['signal'][i]\n",
    "        tau_1[2*bkgcount-2] = dset['tau_1'][i]\n",
    "        tau_2[2*bkgcount-2] = dset['tau_2'][i]\n",
    "        tau_21[2*bkgcount-2] = dset['tau_21'][i]\n",
    "        tau_3[2*bkgcount-2] = dset['tau_3'][i]\n",
    "        tau_32[2*bkgcount-2] = dset['tau_32'][i]\n",
    "        \n",
    "        if bkgcount%1000 == 0: \n",
    "            call('rm '+wdir+'/bkg*', shell=True)\n",
    "        \n",
    "    if int(bkgcount + sigcount) == totnum:\n",
    "        break\n",
    "\n",
    "dset.close()\n",
    "dset_out = h5py.File('./PersistenceDiagrams/jetPDs_Mass60-95_pT250-300_R1.25_Pix25.hdf5','w')\n",
    "group = dset_out.create_group('persisdgm')\n",
    "dt = h5py.special_dtype(vlen=np.dtype('float32'))\n",
    "dset_out.create_dataset('pd_birth',data=pd_birth, dtype = dt)\n",
    "dset_out.create_dataset('pd_death',data=pd_death, dtype = dt)\n",
    "dset_out.create_dataset('image',data=image)\n",
    "dset_out.create_dataset('jet_delta_R',data=jet_delta_R)\n",
    "dset_out.create_dataset('jet_eta',data=jet_eta)\n",
    "dset_out.create_dataset('jet_mass',data=jet_mass)\n",
    "dset_out.create_dataset('jet_phi',data=jet_phi)\n",
    "dset_out.create_dataset('jet_pt',data=jet_pt)\n",
    "dset_out.create_dataset('signal',data=signal)\n",
    "dset_out.create_dataset('tau_1',data=tau_1)\n",
    "dset_out.create_dataset('tau_2',data=tau_2)\n",
    "dset_out.create_dataset('tau_21',data=tau_21)\n",
    "dset_out.create_dataset('tau_3',data=tau_3)\n",
    "dset_out.create_dataset('tau_32',data=tau_32)\n",
    "dset_out.close()"
   ]
  },
  {
   "cell_type": "code",
   "execution_count": 7,
   "metadata": {},
   "outputs": [],
   "source": [
    "x_bkg = np.array([])\n",
    "y_bkg = np.array([])\n",
    "\n",
    "x_sig = np.array([])\n",
    "y_sig = np.array([])\n",
    "\n",
    "dset_bkg = zf.ZipFile('./PersistenceDiagrams/bkg1.zip', 'r')\n",
    "dset_sig = zf.ZipFile('./PersistenceDiagrams/sig1.zip', 'r')\n",
    "\n",
    "for i in range(3,4):\n",
    "    \n",
    "    file_bkg = dset_bkg.open('bkg'+str(i+1)+'.pd')\n",
    "    file_sig = dset_sig.open('sig'+str(i+1)+'.pd')\n",
    "    \n",
    "    persis_bkg = readPersistenceDiagram(file_bkg, 1)\n",
    "    persis_sig = readPersistenceDiagram(file_sig, 1)\n",
    "    \n",
    "    file_bkg.close()\n",
    "    file_sig.close()\n",
    "        \n",
    "    x_bkg = np.append(x_bkg, persis_bkg[0])\n",
    "    y_bkg = np.append(y_bkg, persis_bkg[1])\n",
    "        \n",
    "    x_sig = np.append(x_sig, persis_sig[0])\n",
    "    y_sig = np.append(y_sig, persis_sig[1])"
   ]
  },
  {
   "cell_type": "code",
   "execution_count": 8,
   "metadata": {},
   "outputs": [
    {
     "data": {
      "image/png": "[encoded data removed]",
      "text/plain": [
       "<Figure size 432x288 with 1 Axes>"
      ]
     },
     "metadata": {
      "needs_background": "light"
     },
     "output_type": "display_data"
    }
   ],
   "source": [
    "plt.scatter(x_sig, y_sig, c='r', marker='s', label='sig')\n",
    "plt.scatter(x_bkg, y_bkg, c='b', marker='x', label='bkg')\n",
    "plt.xlim(0, 250)\n",
    "plt.ylim(0, 250)\n",
    "plt.legend(loc='upper right')\n",
    "plt.show()"
   ]
  },
  {
   "cell_type": "code",
   "execution_count": 3,
   "metadata": {},
   "outputs": [],
   "source": [
    "dset_in = h5py.File('./JetImages/jet-images_Mass60-100_pT250-300_R1.25_Pix25.hdf5','r')"
   ]
  },
  {
   "cell_type": "code",
   "execution_count": 9,
   "metadata": {},
   "outputs": [
    {
     "data": {
      "text/plain": [
       "['image',\n",
       " 'jet_delta_R',\n",
       " 'jet_eta',\n",
       " 'jet_mass',\n",
       " 'jet_phi',\n",
       " 'jet_pt',\n",
       " 'signal',\n",
       " 'tau_1',\n",
       " 'tau_2',\n",
       " 'tau_21',\n",
       " 'tau_3',\n",
       " 'tau_32']"
      ]
     },
     "execution_count": 9,
     "metadata": {},
     "output_type": "execute_result"
    }
   ],
   "source": [
    "list(dset_in.keys())"
   ]
  },
  {
   "cell_type": "code",
   "execution_count": null,
   "metadata": {},
   "outputs": [],
   "source": []
  }
 ],
 "metadata": {
  "kernelspec": {
   "display_name": "Python 3",
   "language": "python",
   "name": "python3"
  },
  "language_info": {
   "codemirror_mode": {
    "name": "ipython",
    "version": 3
   },
   "file_extension": ".py",
   "mimetype": "text/x-python",
   "name": "python",
   "nbconvert_exporter": "python",
   "pygments_lexer": "ipython3",
   "version": "3.7.1"
  }
 },
 "nbformat": 4,
 "nbformat_minor": 2
}
